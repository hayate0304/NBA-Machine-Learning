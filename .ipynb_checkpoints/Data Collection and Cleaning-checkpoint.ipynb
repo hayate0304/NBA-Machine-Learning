{
 "cells": [
  {
   "cell_type": "code",
   "execution_count": 1,
   "metadata": {
    "collapsed": true
   },
   "outputs": [],
   "source": [
    "import pandas as pd\n",
    "import requests\n",
    "import time\n",
    "from bs4 import BeautifulSoup\n",
    "from sklearn.linear_model import LinearRegression"
   ]
  },
  {
   "cell_type": "code",
   "execution_count": 2,
   "metadata": {
    "collapsed": false
   },
   "outputs": [
    {
     "data": {
      "text/html": [
       "<div>\n",
       "<table border=\"1\" class=\"dataframe\">\n",
       "  <thead>\n",
       "    <tr style=\"text-align: right;\">\n",
       "      <th></th>\n",
       "      <th>Name</th>\n",
       "      <th>Year</th>\n",
       "      <th>Champion</th>\n",
       "      <th>MVP</th>\n",
       "      <th>Scoring Leader</th>\n",
       "      <th>Rebound Leader</th>\n",
       "      <th>Assist Leader</th>\n",
       "      <th>WS Leader</th>\n",
       "      <th>DPOY</th>\n",
       "      <th>MIP</th>\n",
       "      <th>...</th>\n",
       "      <th>FT%</th>\n",
       "      <th>PPG</th>\n",
       "      <th>TOV</th>\n",
       "      <th>AST</th>\n",
       "      <th>STL</th>\n",
       "      <th>BLKSEED</th>\n",
       "      <th>WINS</th>\n",
       "      <th>GOAT Factor</th>\n",
       "      <th>Coach</th>\n",
       "      <th>Overall Team Score</th>\n",
       "    </tr>\n",
       "  </thead>\n",
       "  <tbody>\n",
       "  </tbody>\n",
       "</table>\n",
       "<p>0 rows × 26 columns</p>\n",
       "</div>"
      ],
      "text/plain": [
       "Empty DataFrame\n",
       "Columns: [Name, Year, Champion, MVP, Scoring Leader, Rebound Leader, Assist Leader, WS Leader, DPOY, MIP, 6MOY, All-Stars, All-NBA, FG%, 3P%, 2P%, FT%, PPG, TOV, AST, STL, BLKSEED, WINS, GOAT Factor, Coach, Overall Team Score]\n",
       "Index: []\n",
       "\n",
       "[0 rows x 26 columns]"
      ]
     },
     "execution_count": 2,
     "metadata": {},
     "output_type": "execute_result"
    }
   ],
   "source": [
    "data = pd.DataFrame(columns= ['Name', 'Year','Champion','MVP','Scoring Leader',\n",
    "                              'Rebound Leader', 'Assist Leader', 'WS Leader','DPOY',\n",
    "                              'MIP', '6MOY', 'All-Stars', 'All-NBA', 'FG%', '3P%', \n",
    "                              '2P%', 'FT%', 'PPG', 'TOV', 'AST', 'STL', 'BLK' \n",
    "                              'SEED', 'WINS', 'GOAT Factor', 'Coach', 'Overall Team Score' ])\n",
    "data"
   ]
  },
  {
   "cell_type": "code",
   "execution_count": 3,
   "metadata": {
    "collapsed": false
   },
   "outputs": [],
   "source": [
    "def check_roster(team_soup, season_awards):\n",
    "    awards = [0,0,0,0,0,0,0,0]\n",
    "    players = team_soup.find_all('td', {'class':'left', 'data-stat':'player'})\n",
    "    roster = [player.text for player in players]\n",
    "    \n",
    "    for i in range(5):\n",
    "        if season_awards[i] in roster:\n",
    "            awards[i] = 1\n",
    "    \n",
    "    return awards"
   ]
  },
  {
   "cell_type": "code",
   "execution_count": 4,
   "metadata": {
    "collapsed": false
   },
   "outputs": [],
   "source": [
    "def get_team_score(season_awards, name, team_url, year):\n",
    "    row = []\n",
    "    row.append(name.replace('*',''))\n",
    "    row.append(year)\n",
    "    \n",
    "    roster = []\n",
    "    \n",
    "    url = 'http://www.basketball-reference.com' + team_url\n",
    "    req = requests.get(url)\n",
    "    time.sleep(0.1)\n",
    "    team_soup = BeautifulSoup(req.text, 'html.parser')\n",
    "    try:\n",
    "        row.append(team_soup.find('br').text[:4] == 'Won ')\n",
    "    except:\n",
    "        row.append(False)\n",
    "    row += check_roster(team_soup, season_awards)\n",
    "    return row"
   ]
  },
  {
   "cell_type": "code",
   "execution_count": 5,
   "metadata": {
    "collapsed": true
   },
   "outputs": [],
   "source": [
    "def get_award_winners(season):\n",
    "    MVP = season.body.find(text='Most Valuable Player').parent.parent.find('a').text\n",
    "    score_champ = season.body.find(text='PPG Leader').parent.parent.find('a').text\n",
    "    rbd_champ = season.body.find(text='RPG Leader').parent.parent.find('a').text\n",
    "    assist_champ = season.body.find(text='APG Leader').parent.parent.find('a').text\n",
    "    ws_leader = season.body.find(text='WS Leader').parent.parent.find('a').text\n",
    "    DPOY = season.body.find(text='Defensive Player of the Year').parent.parent.find('a').text\n",
    "    print(DPOY)\n",
    "\n",
    "    return [MVP,score_champ, rbd_champ, assist_champ, ws_leader]"
   ]
  },
  {
   "cell_type": "code",
   "execution_count": 6,
   "metadata": {
    "collapsed": false
   },
   "outputs": [
    {
     "ename": "AttributeError",
     "evalue": "'NoneType' object has no attribute 'parent'",
     "output_type": "error",
     "traceback": [
      "\u001b[0;31m---------------------------------------------------------------------------\u001b[0m",
      "\u001b[0;31mAttributeError\u001b[0m                            Traceback (most recent call last)",
      "\u001b[0;32m<ipython-input-6-fdd8d2f56bff>\u001b[0m in \u001b[0;36m<module>\u001b[0;34m()\u001b[0m\n\u001b[1;32m      6\u001b[0m     \u001b[0mteams\u001b[0m \u001b[0;34m=\u001b[0m \u001b[0mseason\u001b[0m\u001b[0;34m.\u001b[0m\u001b[0mfind_all\u001b[0m\u001b[0;34m(\u001b[0m\u001b[0;34m'th'\u001b[0m\u001b[0;34m,\u001b[0m \u001b[0;34m{\u001b[0m\u001b[0;34m'class'\u001b[0m\u001b[0;34m:\u001b[0m \u001b[0;34m'left'\u001b[0m\u001b[0;34m,\u001b[0m \u001b[0;34m'data-stat'\u001b[0m\u001b[0;34m:\u001b[0m\u001b[0;34m'team_name'\u001b[0m\u001b[0;34m}\u001b[0m\u001b[0;34m)\u001b[0m\u001b[0;34m\u001b[0m\u001b[0m\n\u001b[1;32m      7\u001b[0m \u001b[0;34m\u001b[0m\u001b[0m\n\u001b[0;32m----> 8\u001b[0;31m     \u001b[0mseason_awards\u001b[0m \u001b[0;34m=\u001b[0m \u001b[0mget_award_winners\u001b[0m\u001b[0;34m(\u001b[0m\u001b[0mseason\u001b[0m\u001b[0;34m)\u001b[0m\u001b[0;34m\u001b[0m\u001b[0m\n\u001b[0m\u001b[1;32m      9\u001b[0m     \u001b[0mprint\u001b[0m\u001b[0;34m(\u001b[0m\u001b[0mseason_awards\u001b[0m\u001b[0;34m)\u001b[0m\u001b[0;34m\u001b[0m\u001b[0m\n\u001b[1;32m     10\u001b[0m     \u001b[0;32mfor\u001b[0m \u001b[0mteam\u001b[0m \u001b[0;32min\u001b[0m \u001b[0mteams\u001b[0m\u001b[0;34m:\u001b[0m\u001b[0;34m\u001b[0m\u001b[0m\n",
      "\u001b[0;32m<ipython-input-5-c8a4639bc5f4>\u001b[0m in \u001b[0;36mget_award_winners\u001b[0;34m(season)\u001b[0m\n\u001b[1;32m      5\u001b[0m     \u001b[0massist_champ\u001b[0m \u001b[0;34m=\u001b[0m \u001b[0mseason\u001b[0m\u001b[0;34m.\u001b[0m\u001b[0mbody\u001b[0m\u001b[0;34m.\u001b[0m\u001b[0mfind\u001b[0m\u001b[0;34m(\u001b[0m\u001b[0mtext\u001b[0m\u001b[0;34m=\u001b[0m\u001b[0;34m'APG Leader'\u001b[0m\u001b[0;34m)\u001b[0m\u001b[0;34m.\u001b[0m\u001b[0mparent\u001b[0m\u001b[0;34m.\u001b[0m\u001b[0mparent\u001b[0m\u001b[0;34m.\u001b[0m\u001b[0mfind\u001b[0m\u001b[0;34m(\u001b[0m\u001b[0;34m'a'\u001b[0m\u001b[0;34m)\u001b[0m\u001b[0;34m.\u001b[0m\u001b[0mtext\u001b[0m\u001b[0;34m\u001b[0m\u001b[0m\n\u001b[1;32m      6\u001b[0m     \u001b[0mws_leader\u001b[0m \u001b[0;34m=\u001b[0m \u001b[0mseason\u001b[0m\u001b[0;34m.\u001b[0m\u001b[0mbody\u001b[0m\u001b[0;34m.\u001b[0m\u001b[0mfind\u001b[0m\u001b[0;34m(\u001b[0m\u001b[0mtext\u001b[0m\u001b[0;34m=\u001b[0m\u001b[0;34m'WS Leader'\u001b[0m\u001b[0;34m)\u001b[0m\u001b[0;34m.\u001b[0m\u001b[0mparent\u001b[0m\u001b[0;34m.\u001b[0m\u001b[0mparent\u001b[0m\u001b[0;34m.\u001b[0m\u001b[0mfind\u001b[0m\u001b[0;34m(\u001b[0m\u001b[0;34m'a'\u001b[0m\u001b[0;34m)\u001b[0m\u001b[0;34m.\u001b[0m\u001b[0mtext\u001b[0m\u001b[0;34m\u001b[0m\u001b[0m\n\u001b[0;32m----> 7\u001b[0;31m     \u001b[0mDPOY\u001b[0m \u001b[0;34m=\u001b[0m \u001b[0mseason\u001b[0m\u001b[0;34m.\u001b[0m\u001b[0mbody\u001b[0m\u001b[0;34m.\u001b[0m\u001b[0mfind\u001b[0m\u001b[0;34m(\u001b[0m\u001b[0mtext\u001b[0m\u001b[0;34m=\u001b[0m\u001b[0;34m'Defensive Player of the Year'\u001b[0m\u001b[0;34m)\u001b[0m\u001b[0;34m.\u001b[0m\u001b[0mparent\u001b[0m\u001b[0;34m.\u001b[0m\u001b[0mparent\u001b[0m\u001b[0;34m.\u001b[0m\u001b[0mfind\u001b[0m\u001b[0;34m(\u001b[0m\u001b[0;34m'a'\u001b[0m\u001b[0;34m)\u001b[0m\u001b[0;34m.\u001b[0m\u001b[0mtext\u001b[0m\u001b[0;34m\u001b[0m\u001b[0m\n\u001b[0m\u001b[1;32m      8\u001b[0m     \u001b[0mprint\u001b[0m\u001b[0;34m(\u001b[0m\u001b[0mDPOY\u001b[0m\u001b[0;34m)\u001b[0m\u001b[0;34m\u001b[0m\u001b[0m\n\u001b[1;32m      9\u001b[0m \u001b[0;34m\u001b[0m\u001b[0m\n",
      "\u001b[0;31mAttributeError\u001b[0m: 'NoneType' object has no attribute 'parent'"
     ]
    }
   ],
   "source": [
    "for i in range(1996, 1998):\n",
    "    url = ('http://www.basketball-reference.com/leagues/NBA_%s.html' % str(i))\n",
    "    time.sleep(0.1)\n",
    "    req = requests.get(url)\n",
    "    season = BeautifulSoup(req.text, 'html.parser')\n",
    "    teams = season.find_all('th', {'class': 'left', 'data-stat':'team_name'})\n",
    "   \n",
    "    season_awards = get_award_winners(season)\n",
    "    print(season_awards)\n",
    "    for team in teams:\n",
    "        for a in team.find_all('a',href=True):\n",
    "            new_row = get_team_score(season_awards,team.text,a['href'], i)\n",
    "            print(new_row)\n"
   ]
  },
  {
   "cell_type": "code",
   "execution_count": null,
   "metadata": {
    "collapsed": true
   },
   "outputs": [],
   "source": []
  }
 ],
 "metadata": {
  "kernelspec": {
   "display_name": "Python 3",
   "language": "python",
   "name": "python3"
  },
  "language_info": {
   "codemirror_mode": {
    "name": "ipython",
    "version": 3
   },
   "file_extension": ".py",
   "mimetype": "text/x-python",
   "name": "python",
   "nbconvert_exporter": "python",
   "pygments_lexer": "ipython3",
   "version": "3.5.2"
  }
 },
 "nbformat": 4,
 "nbformat_minor": 1
}
