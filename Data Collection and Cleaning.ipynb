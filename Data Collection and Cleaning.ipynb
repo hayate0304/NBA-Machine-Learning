{
 "cells": [
  {
   "cell_type": "code",
   "execution_count": 177,
   "metadata": {
    "collapsed": true
   },
   "outputs": [],
   "source": [
    "import pandas as pd\n",
    "import requests\n",
    "import time\n",
    "import re\n",
    "import numpy as np\n",
    "from bs4 import BeautifulSoup\n",
    "from sklearn.linear_model import LinearRegression"
   ]
  },
  {
   "cell_type": "code",
   "execution_count": 2,
   "metadata": {
    "collapsed": false
   },
   "outputs": [
    {
     "data": {
      "text/html": [
       "<div>\n",
       "<table border=\"1\" class=\"dataframe\">\n",
       "  <thead>\n",
       "    <tr style=\"text-align: right;\">\n",
       "      <th></th>\n",
       "      <th>Name</th>\n",
       "      <th>Year</th>\n",
       "      <th>Wins</th>\n",
       "      <th>Champion</th>\n",
       "      <th>MVP</th>\n",
       "      <th>Scoring Leader</th>\n",
       "      <th>Rebound Leader</th>\n",
       "      <th>Assist Leader</th>\n",
       "      <th>WS Leader</th>\n",
       "      <th>DPOY</th>\n",
       "      <th>MIP</th>\n",
       "      <th>6MOY</th>\n",
       "      <th>Coach of Year</th>\n",
       "    </tr>\n",
       "  </thead>\n",
       "  <tbody>\n",
       "  </tbody>\n",
       "</table>\n",
       "</div>"
      ],
      "text/plain": [
       "Empty DataFrame\n",
       "Columns: [Name, Year, Wins, Champion, MVP, Scoring Leader, Rebound Leader, Assist Leader, WS Leader, DPOY, MIP, 6MOY, Coach of Year]\n",
       "Index: []"
      ]
     },
     "execution_count": 2,
     "metadata": {},
     "output_type": "execute_result"
    }
   ],
   "source": [
    "data = pd.DataFrame(columns= ['Name', 'Year','Wins','Champion','MVP','Scoring Leader', \n",
    "                              'Rebound Leader', 'Assist Leader', 'WS Leader','DPOY',\n",
    "                              'MIP', '6MOY', 'Coach of Year'#'All-Stars', 'All-NBA',\n",
    "                              #'All-Defensive', FG%', '3P%', \n",
    "                              #'2P%', 'FT%', 'PPG', 'TOV', 'AST', 'STL', 'BLK' \n",
    "                              #'SEED', 'GOAT Factor', 'Coach', 'Overall Team Score' \n",
    "                             ])\n",
    "data"
   ]
  },
  {
   "cell_type": "code",
   "execution_count": 2,
   "metadata": {
    "collapsed": false
   },
   "outputs": [],
   "source": [
    "def check_roster(team_soup, season_awards):\n",
    "    awards = [0,0,0,0,0,0,0,0,0]\n",
    "    players = team_soup.find_all('td', {'class':'left', 'data-stat':'player'})\n",
    "    roster = [player.text for player in players]\n",
    "    coach = roster.append(team_soup.find(text=re.compile('Coach:')).parent.parent.find('a').text)\n",
    "\n",
    " \n",
    "    for i in range(9):\n",
    "        if season_awards[i] in roster:\n",
    "            awards[i] = 1\n",
    "    \n",
    "    return awards"
   ]
  },
  {
   "cell_type": "code",
   "execution_count": 3,
   "metadata": {
    "collapsed": false
   },
   "outputs": [],
   "source": [
    "def get_team_row(season_awards, name, team_url, year, wins):\n",
    "    row = []\n",
    "    row.append(name.replace('*',''))\n",
    "    row.append(year)\n",
    "    row.append(wins)\n",
    "    \n",
    "    roster = []\n",
    "    \n",
    "    url = 'http://www.basketball-reference.com' + team_url\n",
    "    req = requests.get(url)\n",
    "    time.sleep(0.1)\n",
    "    team_soup = BeautifulSoup(req.text, 'html.parser')\n",
    "    try:\n",
    "        row.append(team_soup.find('br').text[:4] == 'Won ')\n",
    "    except:\n",
    "        row.append(False)\n",
    "    row += check_roster(team_soup, season_awards)\n",
    "    \n",
    "    return row"
   ]
  },
  {
   "cell_type": "code",
   "execution_count": 268,
   "metadata": {
    "collapsed": false
   },
   "outputs": [],
   "source": [
    "leaders = ['Most Valuable Player', 'PPG Leader', 'RPG Leader',\n",
    "           'APG Leader', 'WS Leader']\n",
    "\n",
    "awards = ['Defensive Player of the Year', 'Most Improved Player', \n",
    "          'Sixth Man of the Year', 'Coach of the Year']\n",
    "winners = []\n",
    "\n",
    "def get_award_winners(season, year):\n",
    "    for leader in leaders:\n",
    "        winners.append(season.body.find(text=leader).parent.parent.find('a').text)\n",
    "\n",
    "    #Using a different site that's more convenient to scrape other awards.\n",
    "    year_string = '%s' % str(year)\n",
    "    next_year = '%s' % str(year+1)\n",
    "    year = '%s-%s' % (year_string, next_year[2:4])\n",
    "    for award in awards:\n",
    "        url = 'http://www.nba.com/history/%s-award/' %(award.lower().replace(' ', '-'))\n",
    "        req = requests.get(url)\n",
    "        soup = BeautifulSoup(req.text, 'html.parser')\n",
    "\n",
    "        table = soup.find('table')    \n",
    "        try:\n",
    "            winners.append(table.find(text=re.compile(year)).parent.parent.find_all('td')[1].text.strip())\n",
    "        except:\n",
    "            winners.append('')\n",
    "    \n",
    "    return winners "
   ]
  },
  {
   "cell_type": "code",
   "execution_count": 217,
   "metadata": {
    "collapsed": true
   },
   "outputs": [],
   "source": [
    "# Append all_stars rosters to list\n",
    "def get_allstar_players(year):\n",
    "    year_string = '%s' % str(year)\n",
    "    url = \"http://www.basketball-reference.com/allstar/NBA_%s.html/\" %year_string\n",
    "    req = requests.get(url)\n",
    "    allstar = BeautifulSoup(req.text, 'html.parser')\n",
    "    count1 = 0\n",
    "    count2 = 0\n",
    "    \n",
    "    for row in allstar.find(\"div\", {\"id\" : \"all_East\"}).find_all(\"th\", {\"class\" : \"left\", \"scope\" : \"row\", \"csk\" : True}):\n",
    "        all_stars_East.append(row.find(\"a\").text)\n",
    "        count1 += 1\n",
    "        \n",
    "    if count1 != 12:\n",
    "        for i in range(count1, 12):\n",
    "            all_stars_East.append(\"\")\n",
    "            count1 += 1\n",
    "        \n",
    "    for row in allstar.find(\"div\", {\"id\" : \"all_West\"}).find_all(\"th\", {\"class\" : \"left\", \"scope\" : \"row\", \"csk\" : True}):\n",
    "        all_stars_West.append(row.find(\"a\").text)\n",
    "        count2 += 1\n",
    "    \n",
    "    if count2 != 12:\n",
    "        for i in range(count2, 12):\n",
    "            all_stars_West.append(\"\")\n",
    "            count2 += 1"
   ]
  },
  {
   "cell_type": "code",
   "execution_count": 170,
   "metadata": {
    "collapsed": true
   },
   "outputs": [],
   "source": [
    "## Because we need only 1 request to get the whole defensive page, each five players from list is from the First team of a season.\n",
    "def get_defensive():\n",
    "    url = \"http://www.nba.com/history/all-defensive-teams/\"\n",
    "    req = requests.get(url)\n",
    "    defensive = BeautifulSoup(req.text, 'html.parser')\n",
    "    all_defend = []\n",
    "    \n",
    "    for i in defensive.find_all(\"td\" , {\"class\" : \"cnnIEColTxtL\", \"style\" : \"text-align: center\"}):\n",
    "        if i.text == \"First Team\":\n",
    "            continue\n",
    "        else:\n",
    "            all_defend.append(i.text)"
   ]
  },
  {
   "cell_type": "code",
   "execution_count": 180,
   "metadata": {
    "collapsed": false
   },
   "outputs": [],
   "source": [
    "years = np.arange(1965, 2016)\n",
    "reversed_year = years[::-1]"
   ]
  },
  {
   "cell_type": "code",
   "execution_count": 221,
   "metadata": {
    "collapsed": false
   },
   "outputs": [
    {
     "name": "stdout",
     "output_type": "stream",
     "text": [
      "2015\n",
      "2014\n",
      "2013\n",
      "2012\n",
      "2011\n",
      "2010\n",
      "2009\n",
      "2008\n",
      "2007\n",
      "2006\n",
      "2005\n",
      "2004\n",
      "2003\n",
      "2002\n",
      "2001\n",
      "2000\n",
      "1999\n"
     ]
    },
    {
     "ename": "AttributeError",
     "evalue": "'NoneType' object has no attribute 'find_all'",
     "output_type": "error",
     "traceback": [
      "\u001b[0;31m---------------------------------------------------------------------------\u001b[0m",
      "\u001b[0;31mAttributeError\u001b[0m                            Traceback (most recent call last)",
      "\u001b[0;32m<ipython-input-221-b80440a51df7>\u001b[0m in \u001b[0;36m<module>\u001b[0;34m()\u001b[0m\n\u001b[1;32m      9\u001b[0m     \u001b[0mall_stars_West\u001b[0m \u001b[1;33m=\u001b[0m \u001b[1;33m[\u001b[0m\u001b[1;33m]\u001b[0m\u001b[1;33m\u001b[0m\u001b[0m\n\u001b[1;32m     10\u001b[0m     \u001b[0mprint\u001b[0m\u001b[1;33m(\u001b[0m\u001b[0mi\u001b[0m\u001b[1;33m)\u001b[0m\u001b[1;33m\u001b[0m\u001b[0m\n\u001b[0;32m---> 11\u001b[0;31m     \u001b[0mget_allstar_players\u001b[0m\u001b[1;33m(\u001b[0m\u001b[0mi\u001b[0m\u001b[1;33m)\u001b[0m\u001b[1;33m\u001b[0m\u001b[0m\n\u001b[0m\u001b[1;32m     12\u001b[0m     \u001b[0mtime\u001b[0m\u001b[1;33m.\u001b[0m\u001b[0msleep\u001b[0m\u001b[1;33m(\u001b[0m\u001b[1;36m0.2\u001b[0m\u001b[1;33m)\u001b[0m\u001b[1;33m\u001b[0m\u001b[0m\n\u001b[1;32m     13\u001b[0m \u001b[1;33m\u001b[0m\u001b[0m\n",
      "\u001b[0;32m<ipython-input-217-a11d2b379d43>\u001b[0m in \u001b[0;36mget_allstar_players\u001b[0;34m(year)\u001b[0m\n\u001b[1;32m      8\u001b[0m     \u001b[0mcount2\u001b[0m \u001b[1;33m=\u001b[0m \u001b[1;36m0\u001b[0m\u001b[1;33m\u001b[0m\u001b[0m\n\u001b[1;32m      9\u001b[0m \u001b[1;33m\u001b[0m\u001b[0m\n\u001b[0;32m---> 10\u001b[0;31m     \u001b[1;32mfor\u001b[0m \u001b[0mrow\u001b[0m \u001b[1;32min\u001b[0m \u001b[0mallstar\u001b[0m\u001b[1;33m.\u001b[0m\u001b[0mfind\u001b[0m\u001b[1;33m(\u001b[0m\u001b[1;34m\"div\"\u001b[0m\u001b[1;33m,\u001b[0m \u001b[1;33m{\u001b[0m\u001b[1;34m\"id\"\u001b[0m \u001b[1;33m:\u001b[0m \u001b[1;34m\"all_East\"\u001b[0m\u001b[1;33m}\u001b[0m\u001b[1;33m)\u001b[0m\u001b[1;33m.\u001b[0m\u001b[0mfind_all\u001b[0m\u001b[1;33m(\u001b[0m\u001b[1;34m\"th\"\u001b[0m\u001b[1;33m,\u001b[0m \u001b[1;33m{\u001b[0m\u001b[1;34m\"class\"\u001b[0m \u001b[1;33m:\u001b[0m \u001b[1;34m\"left\"\u001b[0m\u001b[1;33m,\u001b[0m \u001b[1;34m\"scope\"\u001b[0m \u001b[1;33m:\u001b[0m \u001b[1;34m\"row\"\u001b[0m\u001b[1;33m,\u001b[0m \u001b[1;34m\"csk\"\u001b[0m \u001b[1;33m:\u001b[0m \u001b[1;32mTrue\u001b[0m\u001b[1;33m}\u001b[0m\u001b[1;33m)\u001b[0m\u001b[1;33m:\u001b[0m\u001b[1;33m\u001b[0m\u001b[0m\n\u001b[0m\u001b[1;32m     11\u001b[0m         \u001b[0mall_stars_East\u001b[0m\u001b[1;33m.\u001b[0m\u001b[0mappend\u001b[0m\u001b[1;33m(\u001b[0m\u001b[0mrow\u001b[0m\u001b[1;33m.\u001b[0m\u001b[0mfind\u001b[0m\u001b[1;33m(\u001b[0m\u001b[1;34m\"a\"\u001b[0m\u001b[1;33m)\u001b[0m\u001b[1;33m.\u001b[0m\u001b[0mtext\u001b[0m\u001b[1;33m)\u001b[0m\u001b[1;33m\u001b[0m\u001b[0m\n\u001b[1;32m     12\u001b[0m         \u001b[0mcount1\u001b[0m \u001b[1;33m+=\u001b[0m \u001b[1;36m1\u001b[0m\u001b[1;33m\u001b[0m\u001b[0m\n",
      "\u001b[0;31mAttributeError\u001b[0m: 'NoneType' object has no attribute 'find_all'"
     ]
    }
   ],
   "source": [
    "num_players = [\"Player 1\", \"Player 2\", \"Player 3\", \"Player 4\", \"Player 5\", \"Player 6\", \"Player 7\", \"Player 8\", \"Player 9\", \n",
    "              \"Player 10\", \"Player 11\", \"Player 12\"]\n",
    "east = pd.DataFrame(columns=num_players, index = reversed_year).fillna(\"\")\n",
    "west = pd.DataFrame(columns=num_players, index = reversed_year).fillna(\"\")\n",
    "row = 0\n",
    "\n",
    "for i in reversed_year:\n",
    "    all_stars_East = []\n",
    "    all_stars_West = []\n",
    "    print(i)\n",
    "    get_allstar_players(i)\n",
    "    time.sleep(0.2)\n",
    "\n",
    "    east.loc[i, :] = all_stars_East\n",
    "    west.loc[i, :] = all_stars_West\n",
    "\n",
    "    row += 1"
   ]
  },
  {
   "cell_type": "code",
   "execution_count": null,
   "metadata": {
    "collapsed": true
   },
   "outputs": [],
   "source": []
  },
  {
   "cell_type": "code",
   "execution_count": 269,
   "metadata": {
    "collapsed": false
   },
   "outputs": [
    {
     "name": "stdout",
     "output_type": "stream",
     "text": [
      "None\n"
     ]
    }
   ],
   "source": [
    "row_num = 0\n",
    "for i in range(1965, 1966):\n",
    "    url = ('http://www.basketball-reference.com/leagues/NBA_%s.html' % str(i))\n",
    "    time.sleep(0.1)\n",
    "    req = requests.get(url)\n",
    "    season = BeautifulSoup(req.text, 'html.parser')\n",
    "    teams = season.find_all('th', {'class': 'left', 'data-stat':'team_name'})\n",
    "   \n",
    "    season_awards = get_award_winners(season, i-1)\n",
    "    \n",
    "    as_rosters = get_allstar_players(season, i)\n",
    "    \n",
    "    for team in teams:\n",
    "        if(team.text == 'Team' or 'Conference' in team.text):\n",
    "            continue\n",
    "        wins = int(team.parent.find('td', {'data-stat':'wins'}).text)\n",
    "     \n",
    "        team_name = repr(team.text).replace('\\\\x','*').split('*')[0].lstrip(\"'\")\n",
    "        for a in team.find_all('a',href=True):\n",
    "            new_row = get_team_row(season_awards,team_name,a['href'], i, wins)\n",
    "  \n",
    "            data.loc[row_num] = new_row\n",
    "            row_num += 1\n"
   ]
  },
  {
   "cell_type": "code",
   "execution_count": null,
   "metadata": {
    "collapsed": true
   },
   "outputs": [],
   "source": []
  }
 ],
 "metadata": {
  "kernelspec": {
   "display_name": "Python 3",
   "language": "python",
   "name": "python3"
  },
  "language_info": {
   "codemirror_mode": {
    "name": "ipython",
    "version": 3
   },
   "file_extension": ".py",
   "mimetype": "text/x-python",
   "name": "python",
   "nbconvert_exporter": "python",
   "pygments_lexer": "ipython3",
   "version": "3.6.0"
  }
 },
 "nbformat": 4,
 "nbformat_minor": 1
}
