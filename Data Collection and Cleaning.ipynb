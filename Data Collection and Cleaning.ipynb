{
 "cells": [
  {
   "cell_type": "code",
   "execution_count": 53,
   "metadata": {
    "collapsed": true
   },
   "outputs": [],
   "source": [
    "import pandas as pd\n",
    "import requests\n",
    "import time\n",
    "from bs4 import BeautifulSoup\n",
    "from sklearn.linear_model import LinearRegression"
   ]
  },
  {
   "cell_type": "code",
   "execution_count": 79,
   "metadata": {
    "collapsed": false
   },
   "outputs": [
    {
     "data": {
      "text/html": [
       "<div>\n",
       "<table border=\"1\" class=\"dataframe\">\n",
       "  <thead>\n",
       "    <tr style=\"text-align: right;\">\n",
       "      <th></th>\n",
       "      <th>Year</th>\n",
       "      <th>Champion</th>\n",
       "      <th>MVP</th>\n",
       "      <th>Scoring ChampRebound Champ</th>\n",
       "      <th>DPOY</th>\n",
       "      <th>MIP</th>\n",
       "      <th>6MOY</th>\n",
       "      <th>All-Stars</th>\n",
       "      <th>All-NBAFG%</th>\n",
       "      <th>3P%</th>\n",
       "      <th>...</th>\n",
       "      <th>OFT%</th>\n",
       "      <th>OPPG</th>\n",
       "      <th>OTOV</th>\n",
       "      <th>OAST</th>\n",
       "      <th>OSTL</th>\n",
       "      <th>OBLK</th>\n",
       "      <th>SEED</th>\n",
       "      <th>WINS</th>\n",
       "      <th>GOAT Factor</th>\n",
       "      <th>Overall Team Score</th>\n",
       "    </tr>\n",
       "  </thead>\n",
       "  <tbody>\n",
       "  </tbody>\n",
       "</table>\n",
       "<p>0 rows × 29 columns</p>\n",
       "</div>"
      ],
      "text/plain": [
       "Empty DataFrame\n",
       "Columns: [Year, Champion, MVP, Scoring ChampRebound Champ, DPOY, MIP, 6MOY, All-Stars, All-NBAFG%, 3P%, 2P%, FT%, PPG, TOV, AST, STL, BLKOFG%, O3P%, O2P%, OFT%, OPPG, OTOV, OAST, OSTL, OBLK, SEED, WINS, GOAT Factor, Overall Team Score]\n",
       "Index: []\n",
       "\n",
       "[0 rows x 29 columns]"
      ]
     },
     "execution_count": 79,
     "metadata": {},
     "output_type": "execute_result"
    }
   ],
   "source": [
    "data = pd.DataFrame(columns= ['Year','Champion','MVP','Scoring Champ'\n",
    "                              'Rebound Champ', 'DPOY','MIP', '6MOY', 'All-Stars', 'All-NBA'\n",
    "                              'FG%', '3P%', '2P%', 'FT%', 'PPG', 'TOV', 'AST', 'STL', 'BLK' \n",
    "                              'OFG%', 'O3P%', 'O2P%', 'OFT%', 'OPPG', 'OTOV', 'OAST', 'OSTL', 'OBLK',\n",
    "                              'SEED', 'WINS', 'GOAT Factor', 'Coach', 'Overall Team Score' ])\n",
    "data"
   ]
  },
  {
   "cell_type": "code",
   "execution_count": 83,
   "metadata": {
    "collapsed": false
   },
   "outputs": [],
   "source": [
    "def get_team_score(team_url, year):\n",
    "    row = []\n",
    "    row.append(year)\n",
    "    url = 'http://www.basketball-reference.com' + team_url\n",
    "    print(url)\n",
    "    return row"
   ]
  },
  {
   "cell_type": "code",
   "execution_count": 85,
   "metadata": {
    "collapsed": false
   },
   "outputs": [
    {
     "name": "stdout",
     "output_type": "stream",
     "text": [
      "http://www.basketball-reference.com/teams/PHW/1956.html\n",
      "[1956]\n",
      "http://www.basketball-reference.com/teams/BOS/1956.html\n",
      "[1956]\n",
      "http://www.basketball-reference.com/teams/SYR/1956.html\n",
      "[1956]\n",
      "http://www.basketball-reference.com/teams/NYK/1956.html\n",
      "[1956]\n",
      "http://www.basketball-reference.com/teams/FTW/1956.html\n",
      "[1956]\n",
      "http://www.basketball-reference.com/teams/MNL/1956.html\n",
      "[1956]\n",
      "http://www.basketball-reference.com/teams/STL/1956.html\n",
      "[1956]\n",
      "http://www.basketball-reference.com/teams/ROC/1956.html\n",
      "[1956]\n",
      "http://www.basketball-reference.com/teams/BOS/1957.html\n",
      "[1957]\n",
      "http://www.basketball-reference.com/teams/SYR/1957.html\n",
      "[1957]\n",
      "http://www.basketball-reference.com/teams/PHW/1957.html\n",
      "[1957]\n",
      "http://www.basketball-reference.com/teams/NYK/1957.html\n",
      "[1957]\n",
      "http://www.basketball-reference.com/teams/STL/1957.html\n",
      "[1957]\n",
      "http://www.basketball-reference.com/teams/MNL/1957.html\n",
      "[1957]\n",
      "http://www.basketball-reference.com/teams/FTW/1957.html\n",
      "[1957]\n",
      "http://www.basketball-reference.com/teams/ROC/1957.html\n",
      "[1957]\n"
     ]
    }
   ],
   "source": [
    "for i in range(1956, 1958):\n",
    "    url = ('http://www.basketball-reference.com/leagues/NBA_%s.html' % str(i))\n",
    "    time.sleep(0.1)\n",
    "    req = requests.get(url)\n",
    "    season = BeautifulSoup(req.text, 'html.parser')\n",
    "    teams = season.find_all('th', {'class': 'left', 'data-stat':'team_name'})\n",
    "    for team in teams:\n",
    "        for a in team.find_all('a', href=True):\n",
    "            new_row = get_team_score(a['href'], i)\n",
    "            print(new_row)\n"
   ]
  },
  {
   "cell_type": "code",
   "execution_count": null,
   "metadata": {
    "collapsed": true
   },
   "outputs": [],
   "source": []
  }
 ],
 "metadata": {
  "kernelspec": {
   "display_name": "Python 3",
   "language": "python",
   "name": "python3"
  },
  "language_info": {
   "codemirror_mode": {
    "name": "ipython",
    "version": 3
   },
   "file_extension": ".py",
   "mimetype": "text/x-python",
   "name": "python",
   "nbconvert_exporter": "python",
   "pygments_lexer": "ipython3",
   "version": "3.5.2"
  }
 },
 "nbformat": 4,
 "nbformat_minor": 1
}
