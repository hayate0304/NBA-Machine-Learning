{
 "cells": [
  {
   "cell_type": "code",
   "execution_count": 69,
   "metadata": {
    "collapsed": true
   },
   "outputs": [],
   "source": [
    "import pandas as pd\n",
    "import requests\n",
    "import time\n",
    "import re\n",
    "import numpy as np\n",
    "from bs4 import BeautifulSoup\n",
    "from sklearn.linear_model import LinearRegression"
   ]
  },
  {
   "cell_type": "code",
   "execution_count": 88,
   "metadata": {
    "collapsed": false
   },
   "outputs": [
    {
     "data": {
      "text/html": [
       "<div>\n",
       "<table border=\"1\" class=\"dataframe\">\n",
       "  <thead>\n",
       "    <tr style=\"text-align: right;\">\n",
       "      <th></th>\n",
       "      <th>Name</th>\n",
       "      <th>Year</th>\n",
       "      <th>Wins</th>\n",
       "      <th>Champion</th>\n",
       "      <th>MVP</th>\n",
       "      <th>Scoring Leader</th>\n",
       "      <th>Rebound Leader</th>\n",
       "      <th>Assist Leader</th>\n",
       "      <th>WS Leader</th>\n",
       "      <th>DPOY</th>\n",
       "      <th>MIP</th>\n",
       "      <th>6MOY</th>\n",
       "      <th>Coach of Year</th>\n",
       "      <th>All-Stars</th>\n",
       "      <th>All-Defensive</th>\n",
       "    </tr>\n",
       "  </thead>\n",
       "  <tbody>\n",
       "  </tbody>\n",
       "</table>\n",
       "</div>"
      ],
      "text/plain": [
       "Empty DataFrame\n",
       "Columns: [Name, Year, Wins, Champion, MVP, Scoring Leader, Rebound Leader, Assist Leader, WS Leader, DPOY, MIP, 6MOY, Coach of Year, All-Stars, All-Defensive]\n",
       "Index: []"
      ]
     },
     "execution_count": 88,
     "metadata": {},
     "output_type": "execute_result"
    }
   ],
   "source": [
    "data = pd.DataFrame(columns= ['Name', 'Year','Wins','Champion','MVP','Scoring Leader', \n",
    "                              'Rebound Leader', 'Assist Leader', 'WS Leader','DPOY',\n",
    "                              'MIP', '6MOY', 'Coach of Year', 'All-Stars', 'All-Defensive',\n",
    "                              #'All-NBA', FG%', '3P%', \n",
    "                              #'2P%', 'FT%', 'PPG', 'TOV', 'AST', 'STL', 'BLK'  \n",
    "                             ])\n",
    "data"
   ]
  },
  {
   "cell_type": "code",
   "execution_count": 89,
   "metadata": {
    "collapsed": false
   },
   "outputs": [],
   "source": [
    "def check_roster(team_soup, season_awards, allst_roster, all_def):\n",
    "    awards = [0,0,0,0,0,0,0,0,0,0,0]\n",
    "    players = team_soup.find_all('td', {'class':'left', 'data-stat':'player'})\n",
    "    roster = [player.text for player in players]\n",
    "    coach = roster.append(team_soup.find(text=re.compile('Coach:')).parent.parent.find('a').text)\n",
    "    \n",
    "    star_count = 0\n",
    "    all_def_count = 0\n",
    "    for allst in allst_roster:\n",
    "        if allst in roster:\n",
    "            star_count += 1\n",
    " \n",
    "    awards[9] = star_count\n",
    "    for i in range(9):\n",
    "        if season_awards[i] in roster:\n",
    "            awards[i] = 1\n",
    "            \n",
    "    for player in roster:\n",
    "        if player in all_def:\n",
    "            all_def_count +=1 \n",
    "    awards[10] = all_def_count\n",
    "    \n",
    "    return awards"
   ]
  },
  {
   "cell_type": "code",
   "execution_count": 90,
   "metadata": {
    "collapsed": false
   },
   "outputs": [],
   "source": [
    "def get_team_row(all_def, season_awards, allst_roster, name, team_url, year, wins):\n",
    "    row = []\n",
    "    row.append(name.replace('*',''))\n",
    "    row.append(year)\n",
    "    row.append(wins)\n",
    "    \n",
    "    roster = []\n",
    "    \n",
    "    url = 'http://www.basketball-reference.com' + team_url\n",
    "    req = requests.get(url)\n",
    "    time.sleep(0.1)\n",
    "    team_soup = BeautifulSoup(req.text, 'html.parser')\n",
    "    try:\n",
    "        row.append(team_soup.find('br').text[:4] == 'Won ')\n",
    "    except:\n",
    "        row.append(False)\n",
    "    row += check_roster(team_soup, season_awards, allst_roster,all_def)\n",
    "    \n",
    "    row += get_statline(team_soup)\n",
    "    \n",
    "    return row"
   ]
  },
  {
   "cell_type": "code",
   "execution_count": 91,
   "metadata": {
    "collapsed": false
   },
   "outputs": [],
   "source": [
    "leaders = ['Most Valuable Player', 'PPG Leader', 'RPG Leader',\n",
    "           'APG Leader', 'WS Leader']\n",
    "\n",
    "awards = ['Defensive Player of the Year', 'Most Improved Player', \n",
    "          'Sixth Man of the Year', 'Coach of the Year']\n",
    "winners = []\n",
    "\n",
    "def get_award_winners(season, year):\n",
    "    for leader in leaders:\n",
    "        winners.append(season.body.find(text=leader).parent.parent.find('a').text)\n",
    "\n",
    "    #Using a different site that's more convenient to scrape other awards.\n",
    "    year_string = '%s' % str(year)\n",
    "    next_year = '%s' % str(year+1)\n",
    "    year = '%s-%s' % (year_string, next_year[2:4])\n",
    "    for award in awards:\n",
    "        url = 'http://www.nba.com/history/%s-award/' %(award.lower().replace(' ', '-'))\n",
    "        req = requests.get(url)\n",
    "        soup = BeautifulSoup(req.text, 'html.parser')\n",
    "\n",
    "        table = soup.find('table')    \n",
    "        try:\n",
    "            winners.append(table.find(text=re.compile(year)).parent.parent.find_all('td')[1].text.strip())\n",
    "        except:\n",
    "            winners.append('')\n",
    "    \n",
    "    return winners "
   ]
  },
  {
   "cell_type": "code",
   "execution_count": 92,
   "metadata": {
    "collapsed": true
   },
   "outputs": [],
   "source": [
    "# Append all_stars rosters to list\n",
    "def get_allstars(year):\n",
    "    url = \"http://www.basketball-reference.com/allstar/NBA_%s.html/\" % str(year)\n",
    "    req = requests.get(url)\n",
    "    soup = BeautifulSoup(req.text, 'html.parser')\n",
    "    all_stars = []\n",
    "    \n",
    "    for row in soup.find(\"div\", {\"id\" : \"all_East\"}).find_all(\"th\", {\"class\" : \"left\", \"scope\" : \"row\", \"csk\" : True}):\n",
    "        all_stars.append(row.find(\"a\").text)\n",
    "        \n",
    "        \n",
    "    for row in soup.find(\"div\", {\"id\" : \"all_West\"}).find_all(\"th\", {\"class\" : \"left\", \"scope\" : \"row\", \"csk\" : True}):\n",
    "        all_stars.append(row.find(\"a\").text)\n",
    "        \n",
    "    return all_stars"
   ]
  },
  {
   "cell_type": "code",
   "execution_count": 93,
   "metadata": {
    "collapsed": true
   },
   "outputs": [],
   "source": [
    "## Because we need only 1 request to get the whole defensive page, each five players from list is from the First team of a season.\n",
    "def get_all_def():\n",
    "    url = \"http://www.nba.com/history/all-defensive-teams/\"\n",
    "    req = requests.get(url)\n",
    "    defensive = BeautifulSoup(req.text, 'html.parser')\n",
    "    all_defense = []\n",
    "    \n",
    "    for i in defensive.find_all(\"td\" , {\"class\" : \"cnnIEColTxtL\", \"style\" : \"text-align: center\"}):\n",
    "        if i.text == \"First Team\":\n",
    "            continue\n",
    "        all_defense.append(i.text)\n",
    "        \n",
    "    for i in defensive.find_all(\"td\" , {\"class\" : \"cnnIEColTxtR\", \"style\" : \"text-align: center\"}):\n",
    "        if i.text == \"Second Team\":\n",
    "            continue\n",
    "        all_defense.append(i.text)\n",
    "    return all_defense"
   ]
  },
  {
   "cell_type": "code",
   "execution_count": 94,
   "metadata": {
    "collapsed": true
   },
   "outputs": [],
   "source": [
    "def get_statline(team_soup):\n",
    "        \n",
    "    fg_pct = team_soup.find('tr', {'data-row':'0'})\n",
    "    print(fg_pct)"
   ]
  },
  {
   "cell_type": "code",
   "execution_count": 95,
   "metadata": {
    "collapsed": false
   },
   "outputs": [
    {
     "name": "stdout",
     "output_type": "stream",
     "text": [
      "None\n"
     ]
    },
    {
     "ename": "TypeError",
     "evalue": "'NoneType' object is not iterable",
     "output_type": "error",
     "traceback": [
      "\u001b[0;31m---------------------------------------------------------------------------\u001b[0m",
      "\u001b[0;31mTypeError\u001b[0m                                 Traceback (most recent call last)",
      "\u001b[0;32m<ipython-input-95-18943af7ef69>\u001b[0m in \u001b[0;36m<module>\u001b[0;34m()\u001b[0m\n\u001b[1;32m     20\u001b[0m         \u001b[0mteam_name\u001b[0m \u001b[0;34m=\u001b[0m \u001b[0mrepr\u001b[0m\u001b[0;34m(\u001b[0m\u001b[0mteam\u001b[0m\u001b[0;34m.\u001b[0m\u001b[0mtext\u001b[0m\u001b[0;34m)\u001b[0m\u001b[0;34m.\u001b[0m\u001b[0mreplace\u001b[0m\u001b[0;34m(\u001b[0m\u001b[0;34m'\\\\x'\u001b[0m\u001b[0;34m,\u001b[0m\u001b[0;34m'*'\u001b[0m\u001b[0;34m)\u001b[0m\u001b[0;34m.\u001b[0m\u001b[0msplit\u001b[0m\u001b[0;34m(\u001b[0m\u001b[0;34m'*'\u001b[0m\u001b[0;34m)\u001b[0m\u001b[0;34m[\u001b[0m\u001b[0;36m0\u001b[0m\u001b[0;34m]\u001b[0m\u001b[0;34m.\u001b[0m\u001b[0mlstrip\u001b[0m\u001b[0;34m(\u001b[0m\u001b[0;34m\"'\"\u001b[0m\u001b[0;34m)\u001b[0m\u001b[0;34m\u001b[0m\u001b[0m\n\u001b[1;32m     21\u001b[0m         \u001b[0;32mfor\u001b[0m \u001b[0ma\u001b[0m \u001b[0;32min\u001b[0m \u001b[0mteam\u001b[0m\u001b[0;34m.\u001b[0m\u001b[0mfind_all\u001b[0m\u001b[0;34m(\u001b[0m\u001b[0;34m'a'\u001b[0m\u001b[0;34m,\u001b[0m\u001b[0mhref\u001b[0m\u001b[0;34m=\u001b[0m\u001b[0;32mTrue\u001b[0m\u001b[0;34m)\u001b[0m\u001b[0;34m:\u001b[0m\u001b[0;34m\u001b[0m\u001b[0m\n\u001b[0;32m---> 22\u001b[0;31m             \u001b[0mnew_row\u001b[0m \u001b[0;34m=\u001b[0m \u001b[0mget_team_row\u001b[0m\u001b[0;34m(\u001b[0m\u001b[0mall_def\u001b[0m\u001b[0;34m,\u001b[0m\u001b[0mseason_awards\u001b[0m\u001b[0;34m,\u001b[0m\u001b[0mallst_roster\u001b[0m\u001b[0;34m,\u001b[0m\u001b[0mteam_name\u001b[0m\u001b[0;34m,\u001b[0m\u001b[0ma\u001b[0m\u001b[0;34m[\u001b[0m\u001b[0;34m'href'\u001b[0m\u001b[0;34m]\u001b[0m\u001b[0;34m,\u001b[0m \u001b[0mi\u001b[0m\u001b[0;34m,\u001b[0m \u001b[0mwins\u001b[0m\u001b[0;34m)\u001b[0m\u001b[0;34m\u001b[0m\u001b[0m\n\u001b[0m\u001b[1;32m     23\u001b[0m \u001b[0;34m\u001b[0m\u001b[0m\n\u001b[1;32m     24\u001b[0m             \u001b[0mdata\u001b[0m\u001b[0;34m.\u001b[0m\u001b[0mloc\u001b[0m\u001b[0;34m[\u001b[0m\u001b[0mrow_num\u001b[0m\u001b[0;34m]\u001b[0m \u001b[0;34m=\u001b[0m \u001b[0mnew_row\u001b[0m\u001b[0;34m\u001b[0m\u001b[0m\n",
      "\u001b[0;32m<ipython-input-90-bc4195288422>\u001b[0m in \u001b[0;36mget_team_row\u001b[0;34m(all_def, season_awards, allst_roster, name, team_url, year, wins)\u001b[0m\n\u001b[1;32m     17\u001b[0m     \u001b[0mrow\u001b[0m \u001b[0;34m+=\u001b[0m \u001b[0mcheck_roster\u001b[0m\u001b[0;34m(\u001b[0m\u001b[0mteam_soup\u001b[0m\u001b[0;34m,\u001b[0m \u001b[0mseason_awards\u001b[0m\u001b[0;34m,\u001b[0m \u001b[0mallst_roster\u001b[0m\u001b[0;34m,\u001b[0m\u001b[0mall_def\u001b[0m\u001b[0;34m)\u001b[0m\u001b[0;34m\u001b[0m\u001b[0m\n\u001b[1;32m     18\u001b[0m \u001b[0;34m\u001b[0m\u001b[0m\n\u001b[0;32m---> 19\u001b[0;31m     \u001b[0mrow\u001b[0m \u001b[0;34m+=\u001b[0m \u001b[0mget_statline\u001b[0m\u001b[0;34m(\u001b[0m\u001b[0mteam_soup\u001b[0m\u001b[0;34m)\u001b[0m\u001b[0;34m\u001b[0m\u001b[0m\n\u001b[0m\u001b[1;32m     20\u001b[0m \u001b[0;34m\u001b[0m\u001b[0m\n\u001b[1;32m     21\u001b[0m     \u001b[0;32mreturn\u001b[0m \u001b[0mrow\u001b[0m\u001b[0;34m\u001b[0m\u001b[0m\n",
      "\u001b[0;31mTypeError\u001b[0m: 'NoneType' object is not iterable"
     ]
    }
   ],
   "source": [
    "row_num = 0\n",
    "all_def = get_all_def()\n",
    "\n",
    "for i in range(1975, 1976):\n",
    "    url = ('http://www.basketball-reference.com/leagues/NBA_%s.html' % str(i))\n",
    "    time.sleep(0.1)\n",
    "    req = requests.get(url)\n",
    "    season = BeautifulSoup(req.text, 'html.parser')\n",
    "    teams = season.find_all('th', {'class': 'left', 'data-stat':'team_name'})\n",
    "   \n",
    "    season_awards = get_award_winners(season, i-1)\n",
    "    \n",
    "    allst_roster = get_allstars(i)\n",
    "    \n",
    "    for team in teams:\n",
    "        if(team.text == 'Team' or 'Conference' in team.text):\n",
    "            continue\n",
    "        wins = int(team.parent.find('td', {'data-stat':'wins'}).text)\n",
    "     \n",
    "        team_name = repr(team.text).replace('\\\\x','*').split('*')[0].lstrip(\"'\")\n",
    "        for a in team.find_all('a',href=True):\n",
    "            new_row = get_team_row(all_def,season_awards,allst_roster,team_name,a['href'], i, wins)\n",
    "  \n",
    "            data.loc[row_num] = new_row\n",
    "            row_num += 1\n"
   ]
  },
  {
   "cell_type": "code",
   "execution_count": null,
   "metadata": {
    "collapsed": false
   },
   "outputs": [],
   "source": [
    "data"
   ]
  },
  {
   "cell_type": "code",
   "execution_count": 96,
   "metadata": {
    "collapsed": true
   },
   "outputs": [],
   "source": [
    "req = requests.get('http://www.basketball-reference.com/teams/BOS/2006.html')\n",
    "soup = BeautifulSoup(req.text, 'html.parser')"
   ]
  },
  {
   "cell_type": "code",
   "execution_count": 97,
   "metadata": {
    "collapsed": true
   },
   "outputs": [],
   "source": [
    "data_rows = soup.findAll('tr')[2:]  # skip the first 2 header rows"
   ]
  },
  {
   "cell_type": "code",
   "execution_count": 99,
   "metadata": {
    "collapsed": false
   },
   "outputs": [
    {
     "data": {
      "text/plain": [
       "<tr><th class=\"center \" data-stat=\"number\" scope=\"row\">20</th><td class=\"left \" csk=\"Dickau,Dan\" data-append-csv=\"dickada01\" data-stat=\"player\"><a href=\"/players/d/dickada01.html\">Dan Dickau</a></td><td class=\"center \" csk=\"1\" data-stat=\"pos\">PG</td><td class=\"right \" csk=\"72.0\" data-stat=\"height\">6-0</td><td class=\"right \" data-stat=\"weight\">190</td><td class=\"left \" csk=\"19780916\" data-stat=\"birth_date\">September 16, 1978</td><td class=\"right \" data-stat=\"birth_country\"><span class=\"f-i f-us\">us</span></td><td class=\"right \" csk=\"3\" data-stat=\"years_experience\">3</td><td class=\"left \" data-stat=\"college_name\"><a href=\"/friv/colleges.fcgi?college=gonzaga\">Gonzaga University</a></td></tr>"
      ]
     },
     "execution_count": 99,
     "metadata": {},
     "output_type": "execute_result"
    }
   ],
   "source": [
    "data_rows[3]"
   ]
  },
  {
   "cell_type": "code",
   "execution_count": 100,
   "metadata": {
    "collapsed": true
   },
   "outputs": [],
   "source": [
    "player_data = [[td.getText() for td in data_rows[i].findAll('td')]\n",
    "               for i in range(len(data_rows))]"
   ]
  },
  {
   "cell_type": "code",
   "execution_count": 102,
   "metadata": {
    "collapsed": false
   },
   "outputs": [
    {
     "data": {
      "text/plain": [
       "['Marcus Banks',\n",
       " 'PG',\n",
       " '6-2',\n",
       " '200',\n",
       " 'November 19, 1981',\n",
       " 'us',\n",
       " '2',\n",
       " 'University of Nevada, Las Vegas']"
      ]
     },
     "execution_count": 102,
     "metadata": {},
     "output_type": "execute_result"
    }
   ],
   "source": [
    "player_data[0]"
   ]
  },
  {
   "cell_type": "code",
   "execution_count": 103,
   "metadata": {
    "collapsed": true
   },
   "outputs": [],
   "source": [
    "for i in range(len(data_rows)):\n",
    "    [td.getText() for td in data_rows[i].findAll('td')]   "
   ]
  },
  {
   "cell_type": "code",
   "execution_count": 104,
   "metadata": {
    "collapsed": true
   },
   "outputs": [],
   "source": [
    "player_data_02 = []  # create an empty list to hold all the data\n",
    "\n",
    "for i in range(len(data_rows)):  # for each table row\n",
    "    player_row = []  # create an empty list for each pick/player\n",
    "\n",
    "    # for each table data element from each table row\n",
    "    for td in data_rows[i].findAll('td'):        \n",
    "        # get the text content and append to the player_row \n",
    "        player_row.append(td.getText())        \n",
    "\n",
    "    # then append each pick/player to the player_data matrix\n",
    "    player_data_02.append(player_row)"
   ]
  },
  {
   "cell_type": "code",
   "execution_count": 105,
   "metadata": {
    "collapsed": false
   },
   "outputs": [
    {
     "data": {
      "text/plain": [
       "[['Marcus Banks',\n",
       "  'PG',\n",
       "  '6-2',\n",
       "  '200',\n",
       "  'November 19, 1981',\n",
       "  'us',\n",
       "  '2',\n",
       "  'University of Nevada, Las Vegas'],\n",
       " ['Mark Blount',\n",
       "  'C',\n",
       "  '7-0',\n",
       "  '230',\n",
       "  'November 30, 1975',\n",
       "  'us',\n",
       "  '5',\n",
       "  'University of Pittsburgh'],\n",
       " ['Ricky Davis',\n",
       "  'SG',\n",
       "  '6-6',\n",
       "  '195',\n",
       "  'September 23, 1979',\n",
       "  'us',\n",
       "  '7',\n",
       "  'University of Iowa'],\n",
       " ['Dan Dickau',\n",
       "  'PG',\n",
       "  '6-0',\n",
       "  '190',\n",
       "  'September 16, 1978',\n",
       "  'us',\n",
       "  '3',\n",
       "  'Gonzaga University'],\n",
       " ['Ryan Gomes',\n",
       "  'PF',\n",
       "  '6-7',\n",
       "  '250',\n",
       "  'September 1, 1982',\n",
       "  'us',\n",
       "  'R',\n",
       "  'Providence College'],\n",
       " ['Gerald Green', 'SG', '6-7', '205', 'January 26, 1986', 'us', 'R', ''],\n",
       " ['Orien Greene',\n",
       "  'PG',\n",
       "  '6-4',\n",
       "  '208',\n",
       "  'February 4, 1982',\n",
       "  'us',\n",
       "  'R',\n",
       "  'University of Louisiana at Lafayette'],\n",
       " ['Al Jefferson', 'PF', '6-10', '289', 'January 4, 1985', 'us', '1', ''],\n",
       " ['Dwayne Jones',\n",
       "  'PF',\n",
       "  '6-11',\n",
       "  '250',\n",
       "  'June 9, 1983',\n",
       "  'us',\n",
       "  'R',\n",
       "  \"Saint Joseph's University\"],\n",
       " ['Raef LaFrentz',\n",
       "  'PF',\n",
       "  '6-11',\n",
       "  '240',\n",
       "  'May 29, 1976',\n",
       "  'us',\n",
       "  '7',\n",
       "  'University of Kansas'],\n",
       " ['Michael Olowokandi',\n",
       "  'C',\n",
       "  '7-0',\n",
       "  '269',\n",
       "  'April 3, 1975',\n",
       "  'ng',\n",
       "  '7',\n",
       "  'University of the Pacific'],\n",
       " ['Kendrick Perkins', 'C', '6-10', '270', 'November 10, 1984', 'us', '2', ''],\n",
       " ['Paul Pierce',\n",
       "  'SF',\n",
       "  '6-7',\n",
       "  '235',\n",
       "  'October 13, 1977',\n",
       "  'us',\n",
       "  '7',\n",
       "  'University of Kansas'],\n",
       " ['Justin Reed',\n",
       "  'SF',\n",
       "  '6-8',\n",
       "  '240',\n",
       "  'January 16, 1982',\n",
       "  'us',\n",
       "  '1',\n",
       "  'University of Mississippi'],\n",
       " ['Brian Scalabrine',\n",
       "  'PF',\n",
       "  '6-9',\n",
       "  '241',\n",
       "  'March 18, 1978',\n",
       "  'us',\n",
       "  '4',\n",
       "  'University of Southern California'],\n",
       " ['Wally Szczerbiak',\n",
       "  'SF',\n",
       "  '6-7',\n",
       "  '244',\n",
       "  'March 5, 1977',\n",
       "  'es',\n",
       "  '6',\n",
       "  'Miami University'],\n",
       " ['Delonte West',\n",
       "  'PG',\n",
       "  '6-4',\n",
       "  '180',\n",
       "  'July 26, 1983',\n",
       "  'us',\n",
       "  '1',\n",
       "  \"Saint Joseph's University\"]]"
      ]
     },
     "execution_count": 105,
     "metadata": {},
     "output_type": "execute_result"
    }
   ],
   "source": [
    "player_data_02"
   ]
  },
  {
   "cell_type": "code",
   "execution_count": null,
   "metadata": {
    "collapsed": true
   },
   "outputs": [],
   "source": []
  }
 ],
 "metadata": {
  "kernelspec": {
   "display_name": "Python 3",
   "language": "python",
   "name": "python3"
  }
 },
 "nbformat": 4,
 "nbformat_minor": 1
}
